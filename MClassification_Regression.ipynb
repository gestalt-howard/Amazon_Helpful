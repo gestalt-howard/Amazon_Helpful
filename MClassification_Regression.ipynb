{
 "cells": [
  {
   "cell_type": "markdown",
   "metadata": {},
   "source": [
    "# Multi-Stage Classification and Regression\n",
    "## Gradient Boosting Classifer and Regressor\n",
    "Cheng-Hao Tai (A09340296)"
   ]
  },
  {
   "cell_type": "code",
   "execution_count": 1,
   "metadata": {},
   "outputs": [],
   "source": [
    "import matplotlib.pyplot as plt\n",
    "import pandas as pd\n",
    "import numpy as np\n",
    "import os\n",
    "import pdb\n",
    "import pickle\n",
    "import collections\n",
    "import string\n",
    "\n",
    "from sklearn.model_selection import GridSearchCV\n",
    "from sklearn.model_selection import train_test_split\n",
    "from sklearn.ensemble import GradientBoostingClassifier\n",
    "from sklearn.ensemble import GradientBoostingRegressor\n",
    "from sklearn.metrics import accuracy_score\n",
    "from sklearn.metrics import mean_absolute_error"
   ]
  },
  {
   "cell_type": "markdown",
   "metadata": {},
   "source": [
    "## Load the Data"
   ]
  },
  {
   "cell_type": "code",
   "execution_count": 2,
   "metadata": {},
   "outputs": [],
   "source": [
    "parent_path = os.getcwd() + '/'\n",
    "train_path = parent_path + 'train_data/'\n",
    "test_path = parent_path + 'test_data/'"
   ]
  },
  {
   "cell_type": "code",
   "execution_count": 3,
   "metadata": {},
   "outputs": [],
   "source": [
    "path_train_df = train_path + 'train_processed.csv'\n",
    "path_train_labels = train_path + 'train_labels.pickle'\n",
    "path_test_df = test_path + 'test_processed.csv'"
   ]
  },
  {
   "cell_type": "code",
   "execution_count": 4,
   "metadata": {},
   "outputs": [],
   "source": [
    "train_df = pd.read_csv(path_train_df)\n",
    "test_df = pd.read_csv(path_test_df)\n",
    "with open(path_train_labels, 'rb') as handle:\n",
    "    train_labels = pickle.load(handle)"
   ]
  },
  {
   "cell_type": "markdown",
   "metadata": {},
   "source": [
    "## Classify 0's"
   ]
  },
  {
   "cell_type": "code",
   "execution_count": 5,
   "metadata": {},
   "outputs": [
    {
     "name": "stdout",
     "output_type": "stream",
     "text": [
      "0.96181875\n",
      "0.959325\n"
     ]
    }
   ],
   "source": [
    "classify_0_labels = np.array([train_labels==0], dtype=np.int8)[0]\n",
    "xtrain0, xval0, ytrain0, yval0 = train_test_split(train_df, classify_0_labels, test_size=0.2, random_state=0)\n",
    "clf = GradientBoostingClassifier(n_estimators=1000, max_depth=3, learning_rate=0.1, random_state=0, verbose=0)\n",
    "clf.fit(xtrain0, ytrain0)\n",
    "pred0t = clf.predict(xtrain0)\n",
    "pred0v = clf.predict(xval0)\n",
    "print(accuracy_score(ytrain0, pred0t))\n",
    "print(accuracy_score(yval0, pred0v))"
   ]
  },
  {
   "cell_type": "code",
   "execution_count": 6,
   "metadata": {},
   "outputs": [
    {
     "name": "stdout",
     "output_type": "stream",
     "text": [
      "0.961135\n"
     ]
    }
   ],
   "source": [
    "clf.fit(train_df, classify_0_labels)\n",
    "clf_train_0_predict = clf.predict(train_df)\n",
    "clf_test_0_predict = clf.predict(test_df)\n",
    "print(accuracy_score(clf_train_0_predict, classify_0_labels))"
   ]
  },
  {
   "cell_type": "code",
   "execution_count": 7,
   "metadata": {},
   "outputs": [
    {
     "name": "stdout",
     "output_type": "stream",
     "text": [
      "Number of training elements going to the next stage: 62487\n",
      "Number of test elements going to the next stage: 4368\n"
     ]
    }
   ],
   "source": [
    "# Find indexes of correct train predictions\n",
    "pred_0_correct_idx_reference = np.where(clf_train_0_predict==1)[0]\n",
    "pred_0_correct_idx_actual = train_df.iloc[pred_0_correct_idx_reference].index\n",
    "\n",
    "# Find indexes for next train classification\n",
    "classify_1_train_indexes_reference = np.where(clf_train_0_predict==0)[0]\n",
    "classify_1_train_indexes_actual = train_df.iloc[classify_1_train_indexes_reference].index\n",
    "\n",
    "# Find indexes of correct test predictions\n",
    "test_0_correct_idx_reference = np.where(clf_test_0_predict==1)[0]\n",
    "test_0_correct_idx_actual = test_df.iloc[test_0_correct_idx_reference].index\n",
    "\n",
    "# Find indexes for next test set\n",
    "classify_1_test_indexes_reference = np.where(clf_test_0_predict==0)[0]\n",
    "classify_1_test_indexes_actual = test_df.iloc[classify_1_test_indexes_reference].index\n",
    "\n",
    "print('Number of training elements going to the next stage:', len(classify_1_train_indexes_actual))\n",
    "print('Number of test elements going to the next stage:', len(classify_1_test_indexes_actual))"
   ]
  },
  {
   "cell_type": "markdown",
   "metadata": {},
   "source": [
    "## Classify 1's"
   ]
  },
  {
   "cell_type": "code",
   "execution_count": 8,
   "metadata": {},
   "outputs": [],
   "source": [
    "# Train\n",
    "train_1_df = train_df.loc[classify_1_train_indexes_actual]\n",
    "train_1_labels = train_labels[classify_1_train_indexes_actual]\n",
    "# Test\n",
    "test_1_df = test_df.loc[classify_1_test_indexes_actual]"
   ]
  },
  {
   "cell_type": "code",
   "execution_count": 9,
   "metadata": {},
   "outputs": [
    {
     "name": "stdout",
     "output_type": "stream",
     "text": [
      "0.8156594450779171\n",
      "0.8133301328212514\n"
     ]
    }
   ],
   "source": [
    "classify_1_labels = np.array([train_1_labels==1], dtype=np.int8)[0]\n",
    "xtrain1, xval1, ytrain1, yval1 = train_test_split(train_1_df, classify_1_labels, test_size=0.2, random_state=0)\n",
    "clf = GradientBoostingClassifier(n_estimators=1000, max_depth=3, learning_rate=0.1, random_state=0, verbose=0)\n",
    "clf.fit(xtrain1, ytrain1)\n",
    "pred1t = clf.predict(xtrain1)\n",
    "pred1v = clf.predict(xval1)\n",
    "print(accuracy_score(ytrain1, pred1t))\n",
    "print(accuracy_score(yval1, pred1v))"
   ]
  },
  {
   "cell_type": "code",
   "execution_count": 10,
   "metadata": {},
   "outputs": [
    {
     "name": "stdout",
     "output_type": "stream",
     "text": [
      "0.8145534271128395\n"
     ]
    }
   ],
   "source": [
    "clf.fit(train_1_df, classify_1_labels)\n",
    "clf_train_1_predict = clf.predict(train_1_df)\n",
    "clf_test_1_predict = clf.predict(test_1_df)\n",
    "print(accuracy_score(clf_train_1_predict, classify_1_labels))"
   ]
  },
  {
   "cell_type": "code",
   "execution_count": 11,
   "metadata": {},
   "outputs": [
    {
     "name": "stdout",
     "output_type": "stream",
     "text": [
      "Number of training elements going to the next stage: 32972\n",
      "Number of test elements going to the next stage: 2298\n"
     ]
    }
   ],
   "source": [
    "# Find indexes of correct train predictions\n",
    "pred_1_correct_idx_reference = np.where(clf_train_1_predict==1)[0]\n",
    "pred_1_correct_idx_actual = train_1_df.iloc[pred_1_correct_idx_reference].index\n",
    "\n",
    "# Find indexes for next train classification\n",
    "classify_2_train_indexes_reference = np.where(clf_train_1_predict==0)[0]\n",
    "classify_2_train_indexes_actual = train_1_df.iloc[classify_2_train_indexes_reference].index\n",
    "\n",
    "# Find indexes of correct test predictions\n",
    "test_1_correct_idx_reference = np.where(clf_test_1_predict==1)[0]\n",
    "test_1_correct_idx_actual = test_1_df.iloc[test_1_correct_idx_reference].index\n",
    "\n",
    "# Find indexes for next test set\n",
    "classify_2_test_indexes_reference = np.where(clf_test_1_predict==0)[0]\n",
    "classify_2_test_indexes_actual = test_1_df.iloc[classify_2_test_indexes_reference].index\n",
    "\n",
    "print('Number of training elements going to the next stage:', len(classify_2_train_indexes_actual))\n",
    "print('Number of test elements going to the next stage:', len(classify_2_test_indexes_actual))"
   ]
  },
  {
   "cell_type": "markdown",
   "metadata": {},
   "source": [
    "## Classify 2's"
   ]
  },
  {
   "cell_type": "code",
   "execution_count": 12,
   "metadata": {},
   "outputs": [],
   "source": [
    "# Train\n",
    "train_2_df = train_df.loc[classify_2_train_indexes_actual]\n",
    "train_2_labels = train_labels[classify_2_train_indexes_actual]\n",
    "# Test\n",
    "test_2_df = test_df.loc[classify_2_test_indexes_actual]"
   ]
  },
  {
   "cell_type": "code",
   "execution_count": 13,
   "metadata": {},
   "outputs": [
    {
     "name": "stdout",
     "output_type": "stream",
     "text": [
      "0.7951245403192175\n",
      "0.7928733889310083\n"
     ]
    }
   ],
   "source": [
    "classify_2_labels = np.array([train_2_labels==2], dtype=np.int8)[0]\n",
    "xtrain2, xval2, ytrain2, yval2 = train_test_split(train_2_df, classify_2_labels, test_size=0.2, random_state=0)\n",
    "clf = GradientBoostingClassifier(n_estimators=100, max_depth=3, learning_rate=0.1, random_state=0, verbose=0)\n",
    "clf.fit(xtrain2, ytrain2)\n",
    "pred2t = clf.predict(xtrain2)\n",
    "pred2v = clf.predict(xval2)\n",
    "print(accuracy_score(ytrain2, pred2t))\n",
    "print(accuracy_score(yval2, pred2v))"
   ]
  },
  {
   "cell_type": "code",
   "execution_count": 14,
   "metadata": {},
   "outputs": [
    {
     "name": "stdout",
     "output_type": "stream",
     "text": [
      "0.7951898580613854\n"
     ]
    }
   ],
   "source": [
    "clf.fit(train_2_df, classify_2_labels)\n",
    "clf_train_2_predict = clf.predict(train_2_df)\n",
    "clf_test_2_predict = clf.predict(test_2_df)\n",
    "print(accuracy_score(clf_train_2_predict, classify_2_labels))"
   ]
  },
  {
   "cell_type": "code",
   "execution_count": 15,
   "metadata": {},
   "outputs": [
    {
     "name": "stdout",
     "output_type": "stream",
     "text": [
      "Number of training elements going to the next stage: 23531\n",
      "Number of test elements going to the next stage: 1638\n"
     ]
    }
   ],
   "source": [
    "# Find indexes of correct train predictions\n",
    "pred_2_correct_idx_reference = np.where(clf_train_2_predict==1)[0]\n",
    "pred_2_correct_idx_actual = train_2_df.iloc[pred_2_correct_idx_reference].index\n",
    "\n",
    "# Find indexes for next train classification\n",
    "classify_3_train_indexes_reference = np.where(clf_train_2_predict==0)[0]\n",
    "classify_3_train_indexes_actual = train_2_df.iloc[classify_3_train_indexes_reference].index\n",
    "\n",
    "# Find indexes of correct test predictions\n",
    "test_2_correct_idx_reference = np.where(clf_test_2_predict==1)[0]\n",
    "test_2_correct_idx_actual = test_2_df.iloc[test_2_correct_idx_reference].index\n",
    "\n",
    "# Find indexes for next test set\n",
    "classify_3_test_indexes_reference = np.where(clf_test_2_predict==0)[0]\n",
    "classify_3_test_indexes_actual = test_2_df.iloc[classify_3_test_indexes_reference].index\n",
    "\n",
    "print('Number of training elements going to the next stage:', len(classify_3_train_indexes_actual))\n",
    "print('Number of test elements going to the next stage:', len(classify_3_test_indexes_actual))"
   ]
  },
  {
   "cell_type": "markdown",
   "metadata": {},
   "source": [
    "## Classify 3's"
   ]
  },
  {
   "cell_type": "code",
   "execution_count": 16,
   "metadata": {},
   "outputs": [],
   "source": [
    "# Train\n",
    "train_3_df = train_df.loc[classify_3_train_indexes_actual]\n",
    "train_3_labels = train_labels[classify_3_train_indexes_actual]\n",
    "# Test\n",
    "test_3_df = test_df.loc[classify_3_test_indexes_actual]"
   ]
  },
  {
   "cell_type": "code",
   "execution_count": 17,
   "metadata": {},
   "outputs": [
    {
     "name": "stdout",
     "output_type": "stream",
     "text": [
      "0.8167233319167021\n",
      "0.8143190992139366\n"
     ]
    }
   ],
   "source": [
    "classify_3_labels = np.array([train_3_labels==3], dtype=np.int8)[0]\n",
    "xtrain3, xval3, ytrain3, yval3 = train_test_split(train_3_df, classify_3_labels, test_size=0.2, random_state=0)\n",
    "clf = GradientBoostingClassifier(n_estimators=100, max_depth=3, learning_rate=0.1, random_state=0, verbose=0)\n",
    "clf.fit(xtrain3, ytrain3)\n",
    "pred3t = clf.predict(xtrain3)\n",
    "pred3v = clf.predict(xval3)\n",
    "print(accuracy_score(ytrain3, pred3t))\n",
    "print(accuracy_score(yval3, pred3v))"
   ]
  },
  {
   "cell_type": "code",
   "execution_count": 18,
   "metadata": {},
   "outputs": [
    {
     "name": "stdout",
     "output_type": "stream",
     "text": [
      "0.816752369215078\n"
     ]
    }
   ],
   "source": [
    "clf.fit(train_3_df, classify_3_labels)\n",
    "clf_train_3_predict = clf.predict(train_3_df)\n",
    "clf_test_3_predict = clf.predict(test_3_df)\n",
    "print(accuracy_score(clf_train_3_predict, classify_3_labels))"
   ]
  },
  {
   "cell_type": "code",
   "execution_count": 19,
   "metadata": {},
   "outputs": [
    {
     "name": "stdout",
     "output_type": "stream",
     "text": [
      "Number of training elements going to the next stage: 19510\n",
      "Number of test elements going to the next stage: 1331\n"
     ]
    }
   ],
   "source": [
    "# Find indexes of correct train predictions\n",
    "pred_3_correct_idx_reference = np.where(clf_train_3_predict==1)[0]\n",
    "pred_3_correct_idx_actual = train_3_df.iloc[pred_3_correct_idx_reference].index\n",
    "\n",
    "# Find indexes for next train classification\n",
    "classify_4_train_indexes_reference = np.where(clf_train_3_predict==0)[0]\n",
    "classify_4_train_indexes_actual = train_3_df.iloc[classify_4_train_indexes_reference].index\n",
    "\n",
    "# Find indexes of correct test predictions\n",
    "test_3_correct_idx_reference = np.where(clf_test_3_predict==1)[0]\n",
    "test_3_correct_idx_actual = test_3_df.iloc[test_3_correct_idx_reference].index\n",
    "\n",
    "# Find indexes for next test set\n",
    "classify_4_test_indexes_reference = np.where(clf_test_3_predict==0)[0]\n",
    "classify_4_test_indexes_actual = test_3_df.iloc[classify_4_test_indexes_reference].index\n",
    "\n",
    "print('Number of training elements going to the next stage:', len(classify_4_train_indexes_actual))\n",
    "print('Number of test elements going to the next stage:', len(classify_4_test_indexes_actual))"
   ]
  },
  {
   "cell_type": "markdown",
   "metadata": {},
   "source": [
    "## Classify 4's"
   ]
  },
  {
   "cell_type": "code",
   "execution_count": 20,
   "metadata": {},
   "outputs": [],
   "source": [
    "# Train\n",
    "train_4_df = train_df.loc[classify_4_train_indexes_actual]\n",
    "train_4_labels = train_labels[classify_4_train_indexes_actual]\n",
    "# Test\n",
    "test_4_df = test_df.loc[classify_4_test_indexes_actual]"
   ]
  },
  {
   "cell_type": "code",
   "execution_count": 21,
   "metadata": {},
   "outputs": [
    {
     "name": "stdout",
     "output_type": "stream",
     "text": [
      "0.851742696053306\n",
      "0.8552024602767812\n"
     ]
    }
   ],
   "source": [
    "classify_4_labels = np.array([train_4_labels==4], dtype=np.int8)[0]\n",
    "xtrain4, xval4, ytrain4, yval4 = train_test_split(train_4_df, classify_4_labels, test_size=0.2, random_state=0)\n",
    "clf = GradientBoostingClassifier(n_estimators=80, max_depth=4, learning_rate=0.025, random_state=0, verbose=0)\n",
    "clf.fit(xtrain4, ytrain4)\n",
    "pred4t = clf.predict(xtrain4)\n",
    "pred4v = clf.predict(xval4)\n",
    "print(accuracy_score(ytrain4, pred4t))\n",
    "print(accuracy_score(yval4, pred4v))"
   ]
  },
  {
   "cell_type": "code",
   "execution_count": 22,
   "metadata": {},
   "outputs": [
    {
     "name": "stdout",
     "output_type": "stream",
     "text": [
      "0.8518708354689902\n"
     ]
    }
   ],
   "source": [
    "clf.fit(train_4_df, classify_4_labels)\n",
    "clf_train_4_predict = clf.predict(train_4_df)\n",
    "clf_test_4_predict = clf.predict(test_4_df)\n",
    "print(accuracy_score(clf_train_4_predict, classify_4_labels))"
   ]
  },
  {
   "cell_type": "code",
   "execution_count": 23,
   "metadata": {},
   "outputs": [
    {
     "name": "stdout",
     "output_type": "stream",
     "text": [
      "Number of training elements going to the next stage: 19376\n",
      "Number of test elements going to the next stage: 1324\n"
     ]
    }
   ],
   "source": [
    "# Find indexes of correct train predictions\n",
    "pred_4_correct_idx_reference = np.where(clf_train_4_predict==1)[0]\n",
    "pred_4_correct_idx_actual = train_4_df.iloc[pred_4_correct_idx_reference].index\n",
    "\n",
    "# Find indexes for next train classification\n",
    "classify_5_train_indexes_reference = np.where(clf_train_4_predict==0)[0]\n",
    "classify_5_train_indexes_actual = train_4_df.iloc[classify_5_train_indexes_reference].index\n",
    "\n",
    "# Find indexes of correct test predictions\n",
    "test_4_correct_idx_reference = np.where(clf_test_4_predict==1)[0]\n",
    "test_4_correct_idx_actual = test_4_df.iloc[test_4_correct_idx_reference].index\n",
    "\n",
    "# Find indexes for next test set\n",
    "classify_5_test_indexes_reference = np.where(clf_test_4_predict==0)[0]\n",
    "classify_5_test_indexes_actual = test_4_df.iloc[classify_5_test_indexes_reference].index\n",
    "\n",
    "print('Number of training elements going to the next stage:', len(classify_5_train_indexes_actual))\n",
    "print('Number of test elements going to the next stage:', len(classify_5_test_indexes_actual))"
   ]
  },
  {
   "cell_type": "markdown",
   "metadata": {},
   "source": [
    "## Classify 5's"
   ]
  },
  {
   "cell_type": "code",
   "execution_count": 24,
   "metadata": {},
   "outputs": [],
   "source": [
    "# Train\n",
    "train_5_df = train_df.loc[classify_5_train_indexes_actual]\n",
    "train_5_labels = train_labels[classify_5_train_indexes_actual]\n",
    "# Test\n",
    "test_5_df = test_df.loc[classify_5_test_indexes_actual]"
   ]
  },
  {
   "cell_type": "code",
   "execution_count": 25,
   "metadata": {},
   "outputs": [
    {
     "name": "stdout",
     "output_type": "stream",
     "text": [
      "0.9076129032258065\n",
      "0.9086687306501547\n"
     ]
    }
   ],
   "source": [
    "classify_5_labels = np.array([train_5_labels==5], dtype=np.int8)[0]\n",
    "xtrain5, xval5, ytrain5, yval5 = train_test_split(train_5_df, classify_5_labels, test_size=0.2, random_state=0)\n",
    "clf = GradientBoostingClassifier(n_estimators=100, max_depth=3, learning_rate=0.05, random_state=0, verbose=0)\n",
    "clf.fit(xtrain5, ytrain5)\n",
    "pred5t = clf.predict(xtrain5)\n",
    "pred5v = clf.predict(xval5)\n",
    "print(accuracy_score(ytrain5, pred5t))\n",
    "print(accuracy_score(yval5, pred5v))"
   ]
  },
  {
   "cell_type": "code",
   "execution_count": 26,
   "metadata": {},
   "outputs": [
    {
     "name": "stdout",
     "output_type": "stream",
     "text": [
      "0.9073596201486375\n"
     ]
    }
   ],
   "source": [
    "clf.fit(train_5_df, classify_5_labels)\n",
    "clf_train_5_predict = clf.predict(train_5_df)\n",
    "clf_test_5_predict = clf.predict(test_5_df)\n",
    "print(accuracy_score(clf_train_5_predict, classify_5_labels))"
   ]
  },
  {
   "cell_type": "code",
   "execution_count": 27,
   "metadata": {},
   "outputs": [
    {
     "name": "stdout",
     "output_type": "stream",
     "text": [
      "Number of training elements going to the next stage: 18577\n",
      "Number of test elements going to the next stage: 1281\n"
     ]
    }
   ],
   "source": [
    "# Find indexes of correct train predictions\n",
    "pred_5_correct_idx_reference = np.where(clf_train_5_predict==1)[0]\n",
    "pred_5_correct_idx_actual = train_5_df.iloc[pred_5_correct_idx_reference].index\n",
    "\n",
    "# Find train indexes for next regression stages\n",
    "regression_train_indexes_reference = np.where(clf_train_5_predict==0)[0]\n",
    "regression_train_indexes_actual = train_5_df.iloc[regression_train_indexes_reference].index\n",
    "\n",
    "# Find indexes of correct test predictions\n",
    "test_5_correct_idx_reference = np.where(clf_test_5_predict==1)[0]\n",
    "test_5_correct_idx_actual = test_5_df.iloc[test_5_correct_idx_reference].index\n",
    "\n",
    "# Find indexes for next test set in regression stage\n",
    "regression_test_indexes_reference = np.where(clf_test_5_predict==0)[0]\n",
    "regression_test_indexes_actual = test_5_df.iloc[regression_test_indexes_reference].index\n",
    "\n",
    "print('Number of training elements going to the next stage:', len(regression_train_indexes_actual))\n",
    "print('Number of test elements going to the next stage:', len(regression_test_indexes_actual))"
   ]
  },
  {
   "cell_type": "markdown",
   "metadata": {},
   "source": [
    "## Regression"
   ]
  },
  {
   "cell_type": "code",
   "execution_count": 28,
   "metadata": {},
   "outputs": [],
   "source": [
    "# Create regression sets\n",
    "# Train\n",
    "reg_train = train_df.iloc[regression_train_indexes_actual]\n",
    "reg_label = train_labels[regression_train_indexes_actual]\n",
    "# Test\n",
    "reg_test = test_df.iloc[regression_test_indexes_actual]"
   ]
  },
  {
   "cell_type": "code",
   "execution_count": 29,
   "metadata": {},
   "outputs": [],
   "source": [
    "# Small-value regression set\n",
    "reg_cut = 15\n",
    "# Training\n",
    "small_train = reg_train[reg_train.iloc[:, -1] < reg_cut]\n",
    "small_train_idx = small_train.index\n",
    "small_labels = train_labels[small_train_idx]\n",
    "# Test\n",
    "small_test = reg_test[reg_test.iloc[:, -1] < reg_cut]\n",
    "small_test_idx = small_test.index\n",
    "\n",
    "# Large-value regression set\n",
    "# Training\n",
    "large_train = reg_train[reg_train.iloc[:, -1] >= reg_cut]\n",
    "large_train_idx = large_train.index\n",
    "large_labels = train_labels[large_train_idx]\n",
    "# Test\n",
    "large_test = reg_test[reg_test.iloc[:, -1] >= reg_cut]\n",
    "large_test_idx = large_test.index"
   ]
  },
  {
   "cell_type": "markdown",
   "metadata": {},
   "source": [
    "### Regression Stage 1: Small Set"
   ]
  },
  {
   "cell_type": "code",
   "execution_count": 30,
   "metadata": {},
   "outputs": [
    {
     "name": "stdout",
     "output_type": "stream",
     "text": [
      "0.8403328024234439\n",
      "0.8549405874844691\n"
     ]
    }
   ],
   "source": [
    "xtrains, xvals, ytrains, yvals = train_test_split(small_train, small_labels, test_size=0.2, random_state=0)\n",
    "est = GradientBoostingRegressor(n_estimators=110, max_depth=3, learning_rate=0.05, random_state=0, verbose=0)\n",
    "est.fit(xtrains, ytrains)\n",
    "preds_train = est.predict(xtrains)\n",
    "preds_val = est.predict(xvals)\n",
    "print(mean_absolute_error(ytrains, preds_train))\n",
    "print(mean_absolute_error(yvals, preds_val))"
   ]
  },
  {
   "cell_type": "code",
   "execution_count": 31,
   "metadata": {},
   "outputs": [
    {
     "name": "stdout",
     "output_type": "stream",
     "text": [
      "Mean absolute error on train set: 0.8422724714421939\n"
     ]
    }
   ],
   "source": [
    "small_est = est\n",
    "small_est.fit(small_train, small_labels)\n",
    "small_est_train_predict = small_est.predict(small_train)\n",
    "small_est_test_predict = small_est.predict(small_test)\n",
    "print('Mean absolute error on train set:', mean_absolute_error(small_est_train_predict, small_labels))"
   ]
  },
  {
   "cell_type": "markdown",
   "metadata": {},
   "source": [
    "### Regression Stage 2: Large Set"
   ]
  },
  {
   "cell_type": "code",
   "execution_count": 32,
   "metadata": {},
   "outputs": [
    {
     "name": "stdout",
     "output_type": "stream",
     "text": [
      "1.7741534572618822\n",
      "2.7787880577057713\n"
     ]
    }
   ],
   "source": [
    "xtrainl, xvall, ytrainl, yvall = train_test_split(large_train, large_labels, test_size=0.5, random_state=0)\n",
    "est = GradientBoostingRegressor(n_estimators=110, max_depth=3, learning_rate=.08, random_state=0, verbose=0)\n",
    "est.fit(xtrainl, ytrainl)\n",
    "predl_train = est.predict(xtrainl)\n",
    "predl_val = est.predict(xvall)\n",
    "print(mean_absolute_error(ytrainl, predl_train))\n",
    "print(mean_absolute_error(yvall, predl_val))"
   ]
  },
  {
   "cell_type": "code",
   "execution_count": 33,
   "metadata": {},
   "outputs": [
    {
     "name": "stdout",
     "output_type": "stream",
     "text": [
      "Mean absolute error on train set: 1.9208655929287737\n"
     ]
    }
   ],
   "source": [
    "est.fit(large_train, large_labels)\n",
    "large_est_train_predict = est.predict(large_train)\n",
    "large_est_test_predict = est.predict(large_test)\n",
    "print('Mean absolute error on train set:', mean_absolute_error(large_est_train_predict, large_labels))"
   ]
  },
  {
   "cell_type": "markdown",
   "metadata": {},
   "source": [
    "## Stitch Together Predictions"
   ]
  },
  {
   "cell_type": "code",
   "execution_count": 34,
   "metadata": {},
   "outputs": [],
   "source": [
    "# Train predictions\n",
    "master_train_pred = np.zeros(len(train_labels))\n",
    "\n",
    "# Stage 0\n",
    "master_train_pred[pred_0_correct_idx_actual] = 0\n",
    "# Stage 1\n",
    "master_train_pred[pred_1_correct_idx_actual] = 1\n",
    "# Stage 2\n",
    "master_train_pred[pred_2_correct_idx_actual] = 2\n",
    "# Stage 3\n",
    "master_train_pred[pred_3_correct_idx_actual] = 3\n",
    "# Stage 4\n",
    "master_train_pred[pred_4_correct_idx_actual] = 4\n",
    "# Stage 5\n",
    "master_train_pred[pred_5_correct_idx_actual] = 5\n",
    "\n",
    "# Small Regression\n",
    "master_train_pred[small_train_idx] = small_est_train_predict\n",
    "# Large Regression\n",
    "master_train_pred[large_train_idx] = large_est_train_predict"
   ]
  },
  {
   "cell_type": "code",
   "execution_count": 35,
   "metadata": {},
   "outputs": [
    {
     "name": "stdout",
     "output_type": "stream",
     "text": [
      "Overall train MAE: 0.16316402664958665\n"
     ]
    }
   ],
   "source": [
    "print('Overall train MAE:', mean_absolute_error(train_labels, master_train_pred))"
   ]
  },
  {
   "cell_type": "code",
   "execution_count": 36,
   "metadata": {},
   "outputs": [],
   "source": [
    "# Test predictions\n",
    "master_test_pred = np.zeros(len(test_df))\n",
    "\n",
    "# Stage 0\n",
    "master_test_pred[test_0_correct_idx_actual] = 0\n",
    "# Stage 1\n",
    "master_test_pred[test_1_correct_idx_actual] = 1\n",
    "# Stage 2\n",
    "master_test_pred[test_2_correct_idx_actual] = 2\n",
    "# Stage 3\n",
    "master_test_pred[test_3_correct_idx_actual] = 3\n",
    "# Stage 4\n",
    "master_test_pred[test_4_correct_idx_actual] = 4\n",
    "# Stage 5\n",
    "master_test_pred[test_5_correct_idx_actual] = 5\n",
    "# Small Regression\n",
    "master_test_pred[small_test_idx] = small_est_test_predict\n",
    "# Large Regression\n",
    "master_test_pred[large_test_idx] = large_est_test_predict"
   ]
  },
  {
   "cell_type": "code",
   "execution_count": 37,
   "metadata": {},
   "outputs": [],
   "source": [
    "template_path = parent_path + 'pairs_Helpful.txt'\n",
    "submit_path = parent_path + 'submit_kaggle_hailmary.csv'\n",
    "# Convert to DF and save\n",
    "format_df = pd.read_csv(template_path)\n",
    "format_df.prediction = master_test_pred\n",
    "format_df.to_csv(submit_path, index=None)"
   ]
  },
  {
   "cell_type": "code",
   "execution_count": null,
   "metadata": {},
   "outputs": [],
   "source": []
  }
 ],
 "metadata": {
  "kernelspec": {
   "display_name": "Python 3",
   "language": "python",
   "name": "python3"
  },
  "language_info": {
   "codemirror_mode": {
    "name": "ipython",
    "version": 3
   },
   "file_extension": ".py",
   "mimetype": "text/x-python",
   "name": "python",
   "nbconvert_exporter": "python",
   "pygments_lexer": "ipython3",
   "version": "3.6.5"
  }
 },
 "nbformat": 4,
 "nbformat_minor": 2
}
