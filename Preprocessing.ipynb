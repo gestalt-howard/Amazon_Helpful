{
 "cells": [
  {
   "cell_type": "markdown",
   "metadata": {},
   "source": [
    "# Preprocessing"
   ]
  },
  {
   "cell_type": "code",
   "execution_count": 1,
   "metadata": {},
   "outputs": [],
   "source": [
    "import gzip\n",
    "import pandas as pd\n",
    "import numpy as np\n",
    "import os\n",
    "import pdb\n",
    "import pickle\n",
    "import string\n",
    "import shutil\n",
    "\n",
    "from collections import defaultdict"
   ]
  },
  {
   "cell_type": "markdown",
   "metadata": {},
   "source": [
    "## Preprocessing Class"
   ]
  },
  {
   "cell_type": "code",
   "execution_count": 2,
   "metadata": {},
   "outputs": [],
   "source": [
    "class preprocessing(object):\n",
    "    \"\"\"\n",
    "    A dataframe object that has preprocessing capabilities\n",
    "    \"\"\"\n",
    "    def __init__(self, df):\n",
    "        \"\"\"Initializes class parameters\"\"\"\n",
    "        super()\n",
    "        self.df = df\n",
    "        self.replace_punctuation = str.maketrans(string.punctuation, ' '*len(string.punctuation))\n",
    "\n",
    "    \n",
    "    @staticmethod\n",
    "    def text_processor(sentence, table):\n",
    "        \"\"\"Function for removing punctuations and uncasing\"\"\"\n",
    "        sentence = sentence.translate(table)\n",
    "        return([w.lower() for w in sentence.split() if w!=' ' and w!=None])\n",
    "    \n",
    "\n",
    "    def category_id(self):\n",
    "        \"\"\"Return the values of **category_id** as a list\"\"\"\n",
    "        categ_id = np.asarray(self.df.categoryID.values)\n",
    "        return(categ_id.reshape((len(categ_id), 1)))\n",
    "\n",
    "\n",
    "    def rating(self):\n",
    "        \"\"\"Returns the values of **rating** as a list\"\"\"\n",
    "        rate = np.asarray(self.df.rating.values)\n",
    "        return(rate.reshape((len(rate), 1)))\n",
    "\n",
    "\n",
    "    def review_length(self):\n",
    "        \"\"\"Finds the length of a review and returns a list of all lengths\"\"\"\n",
    "        documents = self.df.reviewText.as_matrix()\n",
    "        all_lengths = np.zeros((len(documents)))\n",
    "        for i, text in enumerate(documents):\n",
    "            all_lengths[i] = len(text)\n",
    "        return(all_lengths.reshape((len(all_lengths), 1)))\n",
    "\n",
    "\n",
    "    def review_time(self):\n",
    "        \"\"\"Translates the time string into 3-element array\"\"\"\n",
    "        review_time = list(self.df.reviewTime.values)\n",
    "        time_wo_punctuation = [self.text_processor(date, self.replace_punctuation) for date in review_time]\n",
    "        formatted_time = np.asarray(list(map(lambda x: [int(i) for i in x], time_wo_punctuation)))\n",
    "        return(np.array([[x[0], x[1], x[2]] for x in formatted_time]))\n",
    "        \n",
    "\n",
    "    def out_of(self):\n",
    "        \"\"\"Filters out the **outOf** entry and returns a list of values\"\"\"\n",
    "        helpful = list(self.df.helpful.values)\n",
    "        out_of = np.asarray([x['outOf'] for x in helpful], dtype=np.int32)\n",
    "        return(out_of.reshape((len(out_of), 1)))"
   ]
  },
  {
   "cell_type": "markdown",
   "metadata": {},
   "source": [
    "## Helper Functions"
   ]
  },
  {
   "cell_type": "code",
   "execution_count": 3,
   "metadata": {},
   "outputs": [],
   "source": [
    "def readGz(f):\n",
    "    for l in gzip.open(f):\n",
    "        yield eval(l)\n",
    "\n",
    "def parse(path):\n",
    "    g = gzip.open(path, 'rb')\n",
    "    for l in g:\n",
    "        yield eval(l)\n",
    "\n",
    "def getDF(path):\n",
    "    i = 0\n",
    "    df = {}\n",
    "    for d in parse(path):\n",
    "        df[i] = d\n",
    "        i += 1\n",
    "    return pd.DataFrame.from_dict(df, orient='index')"
   ]
  },
  {
   "cell_type": "markdown",
   "metadata": {},
   "source": [
    "## Load the Zipped Dataframes"
   ]
  },
  {
   "cell_type": "code",
   "execution_count": 4,
   "metadata": {},
   "outputs": [],
   "source": [
    "parent_path = os.getcwd() + '/'\n",
    "zipped_train_path = parent_path + 'train.json.gz'\n",
    "zipped_test_path = parent_path + 'test_Helpful.json.gz'"
   ]
  },
  {
   "cell_type": "code",
   "execution_count": 5,
   "metadata": {},
   "outputs": [
    {
     "name": "stdout",
     "output_type": "stream",
     "text": [
      "Loading zipped dataframes...\n"
     ]
    }
   ],
   "source": [
    "print('Loading zipped dataframes...')\n",
    "train_zip = getDF(zipped_train_path)\n",
    "test_zip = getDF(zipped_test_path)"
   ]
  },
  {
   "cell_type": "code",
   "execution_count": 6,
   "metadata": {},
   "outputs": [],
   "source": [
    "train_path = parent_path + 'train_data/'\n",
    "test_path = parent_path + 'test_data/'"
   ]
  },
  {
   "cell_type": "code",
   "execution_count": 7,
   "metadata": {},
   "outputs": [],
   "source": [
    "def folder_setup(path):\n",
    "    if os.path.exists(path):\n",
    "        print('Removing old folder %s'%path)\n",
    "        shutil.rmtree(path)\n",
    "        print('Making new folder %s'%path)\n",
    "        os.mkdir(path)\n",
    "    else:\n",
    "        print('Making new folder %s'%path)\n",
    "        os.mkdir(path)"
   ]
  },
  {
   "cell_type": "code",
   "execution_count": 8,
   "metadata": {},
   "outputs": [
    {
     "name": "stdout",
     "output_type": "stream",
     "text": [
      "Removing old folder /Users/cheng-haotai/Documents/Projects_Data/Amazon_Helpful/train_data/\n",
      "Making new folder /Users/cheng-haotai/Documents/Projects_Data/Amazon_Helpful/train_data/\n",
      "\n",
      "Removing old folder /Users/cheng-haotai/Documents/Projects_Data/Amazon_Helpful/test_data/\n",
      "Making new folder /Users/cheng-haotai/Documents/Projects_Data/Amazon_Helpful/test_data/\n"
     ]
    }
   ],
   "source": [
    "folder_setup(train_path)\n",
    "print()\n",
    "folder_setup(test_path)"
   ]
  },
  {
   "cell_type": "markdown",
   "metadata": {},
   "source": [
    "## Assemble Features"
   ]
  },
  {
   "cell_type": "code",
   "execution_count": 9,
   "metadata": {},
   "outputs": [],
   "source": [
    "def true_scores(helpful_list):\n",
    "    true_scores = np.asarray([x['nHelpful'] for x in helpful_list])\n",
    "    return(true_scores)"
   ]
  },
  {
   "cell_type": "code",
   "execution_count": 10,
   "metadata": {},
   "outputs": [],
   "source": [
    "def get_preprocessed_data(df):\n",
    "    structure = preprocessing(df)\n",
    "    # Features to include\n",
    "    categ_id = structure.category_id()\n",
    "    rate = structure.rating()\n",
    "    rev_len = structure.review_length()\n",
    "    rev_time = structure.review_time()\n",
    "    outof = structure.out_of()\n",
    "\n",
    "    # Assemble dataframe\n",
    "    data_assy = np.concatenate((categ_id, rate, rev_len, rev_time, outof), axis=1)\n",
    "    return(pd.DataFrame(data=data_assy))"
   ]
  },
  {
   "cell_type": "code",
   "execution_count": 11,
   "metadata": {},
   "outputs": [
    {
     "name": "stdout",
     "output_type": "stream",
     "text": [
      "Preprocessing zipped datasets...\n"
     ]
    }
   ],
   "source": [
    "print('Preprocessing zipped datasets...')\n",
    "train_df = get_preprocessed_data(train_zip)\n",
    "test_df = get_preprocessed_data(test_zip)"
   ]
  },
  {
   "cell_type": "code",
   "execution_count": 12,
   "metadata": {},
   "outputs": [
    {
     "name": "stdout",
     "output_type": "stream",
     "text": [
      "(200000, 7)\n",
      "(14000, 7)\n"
     ]
    }
   ],
   "source": [
    "print(train_df.shape)\n",
    "print(test_df.shape)"
   ]
  },
  {
   "cell_type": "code",
   "execution_count": 13,
   "metadata": {},
   "outputs": [],
   "source": [
    "# Get labels\n",
    "train_labels = true_scores(train_zip.helpful)"
   ]
  },
  {
   "cell_type": "code",
   "execution_count": 14,
   "metadata": {},
   "outputs": [
    {
     "name": "stdout",
     "output_type": "stream",
     "text": [
      "(200000,)\n"
     ]
    }
   ],
   "source": [
    "print(train_labels.shape)"
   ]
  },
  {
   "cell_type": "markdown",
   "metadata": {},
   "source": [
    "## Save Dataframes and Labels"
   ]
  },
  {
   "cell_type": "code",
   "execution_count": 15,
   "metadata": {},
   "outputs": [],
   "source": [
    "path_train_df = train_path + 'train_processed.csv'\n",
    "path_train_labels = train_path + 'train_labels.pickle'\n",
    "path_test_df = test_path + 'test_processed.csv'"
   ]
  },
  {
   "cell_type": "code",
   "execution_count": 16,
   "metadata": {},
   "outputs": [],
   "source": [
    "train_df.to_csv(path_train_df, index=None)\n",
    "test_df.to_csv(path_test_df, index=None)"
   ]
  },
  {
   "cell_type": "code",
   "execution_count": 17,
   "metadata": {},
   "outputs": [],
   "source": [
    "with open(path_train_labels, 'wb') as handle:\n",
    "    pickle.dump(train_labels, handle, protocol=pickle.HIGHEST_PROTOCOL)"
   ]
  },
  {
   "cell_type": "code",
   "execution_count": 18,
   "metadata": {},
   "outputs": [],
   "source": [
    "train_load = pd.read_csv(path_train_df)\n",
    "test_load = pd.read_csv(path_test_df)"
   ]
  },
  {
   "cell_type": "code",
   "execution_count": 19,
   "metadata": {},
   "outputs": [
    {
     "data": {
      "text/html": [
       "<div>\n",
       "<style scoped>\n",
       "    .dataframe tbody tr th:only-of-type {\n",
       "        vertical-align: middle;\n",
       "    }\n",
       "\n",
       "    .dataframe tbody tr th {\n",
       "        vertical-align: top;\n",
       "    }\n",
       "\n",
       "    .dataframe thead th {\n",
       "        text-align: right;\n",
       "    }\n",
       "</style>\n",
       "<table border=\"1\" class=\"dataframe\">\n",
       "  <thead>\n",
       "    <tr style=\"text-align: right;\">\n",
       "      <th></th>\n",
       "      <th>0</th>\n",
       "      <th>1</th>\n",
       "      <th>2</th>\n",
       "      <th>3</th>\n",
       "      <th>4</th>\n",
       "      <th>5</th>\n",
       "      <th>6</th>\n",
       "    </tr>\n",
       "  </thead>\n",
       "  <tbody>\n",
       "    <tr>\n",
       "      <th>0</th>\n",
       "      <td>0.0</td>\n",
       "      <td>3.0</td>\n",
       "      <td>147.0</td>\n",
       "      <td>7.0</td>\n",
       "      <td>15.0</td>\n",
       "      <td>2011.0</td>\n",
       "      <td>2.0</td>\n",
       "    </tr>\n",
       "    <tr>\n",
       "      <th>1</th>\n",
       "      <td>0.0</td>\n",
       "      <td>4.0</td>\n",
       "      <td>144.0</td>\n",
       "      <td>7.0</td>\n",
       "      <td>17.0</td>\n",
       "      <td>2013.0</td>\n",
       "      <td>0.0</td>\n",
       "    </tr>\n",
       "    <tr>\n",
       "      <th>2</th>\n",
       "      <td>0.0</td>\n",
       "      <td>5.0</td>\n",
       "      <td>112.0</td>\n",
       "      <td>12.0</td>\n",
       "      <td>8.0</td>\n",
       "      <td>2013.0</td>\n",
       "      <td>1.0</td>\n",
       "    </tr>\n",
       "    <tr>\n",
       "      <th>3</th>\n",
       "      <td>0.0</td>\n",
       "      <td>5.0</td>\n",
       "      <td>666.0</td>\n",
       "      <td>11.0</td>\n",
       "      <td>22.0</td>\n",
       "      <td>2012.0</td>\n",
       "      <td>1.0</td>\n",
       "    </tr>\n",
       "    <tr>\n",
       "      <th>4</th>\n",
       "      <td>0.0</td>\n",
       "      <td>4.0</td>\n",
       "      <td>190.0</td>\n",
       "      <td>4.0</td>\n",
       "      <td>1.0</td>\n",
       "      <td>2014.0</td>\n",
       "      <td>0.0</td>\n",
       "    </tr>\n",
       "  </tbody>\n",
       "</table>\n",
       "</div>"
      ],
      "text/plain": [
       "     0    1      2     3     4       5    6\n",
       "0  0.0  3.0  147.0   7.0  15.0  2011.0  2.0\n",
       "1  0.0  4.0  144.0   7.0  17.0  2013.0  0.0\n",
       "2  0.0  5.0  112.0  12.0   8.0  2013.0  1.0\n",
       "3  0.0  5.0  666.0  11.0  22.0  2012.0  1.0\n",
       "4  0.0  4.0  190.0   4.0   1.0  2014.0  0.0"
      ]
     },
     "execution_count": 19,
     "metadata": {},
     "output_type": "execute_result"
    }
   ],
   "source": [
    "test_load.head()"
   ]
  },
  {
   "cell_type": "code",
   "execution_count": 20,
   "metadata": {},
   "outputs": [
    {
     "data": {
      "text/html": [
       "<div>\n",
       "<style scoped>\n",
       "    .dataframe tbody tr th:only-of-type {\n",
       "        vertical-align: middle;\n",
       "    }\n",
       "\n",
       "    .dataframe tbody tr th {\n",
       "        vertical-align: top;\n",
       "    }\n",
       "\n",
       "    .dataframe thead th {\n",
       "        text-align: right;\n",
       "    }\n",
       "</style>\n",
       "<table border=\"1\" class=\"dataframe\">\n",
       "  <thead>\n",
       "    <tr style=\"text-align: right;\">\n",
       "      <th></th>\n",
       "      <th>0</th>\n",
       "      <th>1</th>\n",
       "      <th>2</th>\n",
       "      <th>3</th>\n",
       "      <th>4</th>\n",
       "      <th>5</th>\n",
       "      <th>6</th>\n",
       "    </tr>\n",
       "  </thead>\n",
       "  <tbody>\n",
       "    <tr>\n",
       "      <th>0</th>\n",
       "      <td>0.0</td>\n",
       "      <td>3.0</td>\n",
       "      <td>119.0</td>\n",
       "      <td>5.0</td>\n",
       "      <td>20.0</td>\n",
       "      <td>2014.0</td>\n",
       "      <td>0.0</td>\n",
       "    </tr>\n",
       "    <tr>\n",
       "      <th>1</th>\n",
       "      <td>0.0</td>\n",
       "      <td>4.0</td>\n",
       "      <td>269.0</td>\n",
       "      <td>2.0</td>\n",
       "      <td>7.0</td>\n",
       "      <td>2013.0</td>\n",
       "      <td>0.0</td>\n",
       "    </tr>\n",
       "    <tr>\n",
       "      <th>2</th>\n",
       "      <td>0.0</td>\n",
       "      <td>3.0</td>\n",
       "      <td>144.0</td>\n",
       "      <td>5.0</td>\n",
       "      <td>13.0</td>\n",
       "      <td>2014.0</td>\n",
       "      <td>2.0</td>\n",
       "    </tr>\n",
       "    <tr>\n",
       "      <th>3</th>\n",
       "      <td>0.0</td>\n",
       "      <td>4.0</td>\n",
       "      <td>174.0</td>\n",
       "      <td>5.0</td>\n",
       "      <td>25.0</td>\n",
       "      <td>2014.0</td>\n",
       "      <td>0.0</td>\n",
       "    </tr>\n",
       "    <tr>\n",
       "      <th>4</th>\n",
       "      <td>0.0</td>\n",
       "      <td>5.0</td>\n",
       "      <td>424.0</td>\n",
       "      <td>7.0</td>\n",
       "      <td>30.0</td>\n",
       "      <td>2013.0</td>\n",
       "      <td>1.0</td>\n",
       "    </tr>\n",
       "  </tbody>\n",
       "</table>\n",
       "</div>"
      ],
      "text/plain": [
       "     0    1      2    3     4       5    6\n",
       "0  0.0  3.0  119.0  5.0  20.0  2014.0  0.0\n",
       "1  0.0  4.0  269.0  2.0   7.0  2013.0  0.0\n",
       "2  0.0  3.0  144.0  5.0  13.0  2014.0  2.0\n",
       "3  0.0  4.0  174.0  5.0  25.0  2014.0  0.0\n",
       "4  0.0  5.0  424.0  7.0  30.0  2013.0  1.0"
      ]
     },
     "execution_count": 20,
     "metadata": {},
     "output_type": "execute_result"
    }
   ],
   "source": [
    "train_load.head()"
   ]
  },
  {
   "cell_type": "code",
   "execution_count": 21,
   "metadata": {},
   "outputs": [],
   "source": [
    "with open(path_train_labels, 'rb') as handle:\n",
    "    labels_load = pickle.load(handle)"
   ]
  },
  {
   "cell_type": "code",
   "execution_count": 22,
   "metadata": {},
   "outputs": [
    {
     "name": "stdout",
     "output_type": "stream",
     "text": [
      "(200000,)\n"
     ]
    }
   ],
   "source": [
    "print(labels_load.shape)"
   ]
  },
  {
   "cell_type": "code",
   "execution_count": null,
   "metadata": {},
   "outputs": [],
   "source": []
  }
 ],
 "metadata": {
  "kernelspec": {
   "display_name": "Python 3",
   "language": "python",
   "name": "python3"
  },
  "language_info": {
   "codemirror_mode": {
    "name": "ipython",
    "version": 3
   },
   "file_extension": ".py",
   "mimetype": "text/x-python",
   "name": "python",
   "nbconvert_exporter": "python",
   "pygments_lexer": "ipython3",
   "version": "3.6.5"
  }
 },
 "nbformat": 4,
 "nbformat_minor": 2
}
